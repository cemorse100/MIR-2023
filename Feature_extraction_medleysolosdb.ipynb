{
  "cells": [
    {
      "cell_type": "markdown",
      "metadata": {
        "id": "view-in-github",
        "colab_type": "text"
      },
      "source": [
        "<a href=\"https://colab.research.google.com/github/cemorse100/MIR-2023/blob/main/Feature_extraction_medleysolosdb.ipynb\" target=\"_parent\"><img src=\"https://colab.research.google.com/assets/colab-badge.svg\" alt=\"Open In Colab\"/></a>"
      ]
    },
    {
      "cell_type": "markdown",
      "source": [
        "# Assignment : Feature extraction and classification - MIR 2022/2023\n",
        "\n",
        "For this assignment I aimed to reprodce two notebooks which execute a feature extraction and classification of a dataset containing different classes of Mridangam strokes. \n",
        "\n",
        "These notebooks are applied to a dataset, Medley-Solos-DB (https://zenodo.org/record/1344103#.Y-ufuOzMLlx) which instead contains audio recordings which are classified by the instrument being played. \n",
        "\n",
        "This datafile contains: \n",
        "- 21571 audio clips as WAV files, sampled at 44.1 kHz, with a single channel (mono), at a bit depth of 32. \n",
        "- Fixed duration of 2972 milliseconds, that is, 65536 discrete-time samples.\n",
        "- 8 Distinct instrument classes \n",
        "\n",
        "Here are the tasks performed in these notebooks: \n",
        "\n",
        "- Understanding & balancing the dataset\n",
        "- Feature Extraction\n",
        "- Genre classification"
      ],
      "metadata": {
        "id": "OzqjfPM_Y9x2"
      }
    },
    {
      "cell_type": "markdown",
      "source": [
        "# Setup\n",
        "In this section we will download and balance the dataset in order to prepare it for feature extraction"
      ],
      "metadata": {
        "id": "8Vut2UaVa9Va"
      }
    },
    {
      "cell_type": "code",
      "execution_count": 1,
      "metadata": {
        "colab": {
          "base_uri": "https://localhost:8080/"
        },
        "id": "sliVDC3GYPcT",
        "outputId": "73954416-1746-46f8-bf56-3adbf0383ff9"
      },
      "outputs": [
        {
          "output_type": "stream",
          "name": "stdout",
          "text": [
            "Looking in indexes: https://pypi.org/simple, https://us-python.pkg.dev/colab-wheels/public/simple/\n",
            "Collecting essentia\n",
            "  Downloading essentia-2.1b6.dev858-cp38-cp38-manylinux_2_17_x86_64.manylinux2014_x86_64.whl (13.6 MB)\n",
            "\u001b[2K     \u001b[90m━━━━━━━━━━━━━━━━━━━━━━━━━━━━━━━━━━━━━━━━\u001b[0m \u001b[32m13.6/13.6 MB\u001b[0m \u001b[31m68.2 MB/s\u001b[0m eta \u001b[36m0:00:00\u001b[0m\n",
            "\u001b[?25hRequirement already satisfied: numpy>=1.8.2 in /usr/local/lib/python3.8/dist-packages (from essentia) (1.21.6)\n",
            "Requirement already satisfied: pyyaml in /usr/local/lib/python3.8/dist-packages (from essentia) (6.0)\n",
            "Requirement already satisfied: six in /usr/local/lib/python3.8/dist-packages (from essentia) (1.15.0)\n",
            "Installing collected packages: essentia\n",
            "Successfully installed essentia-2.1b6.dev858\n",
            "Looking in indexes: https://pypi.org/simple, https://us-python.pkg.dev/colab-wheels/public/simple/\n",
            "Collecting mirdata\n",
            "  Downloading mirdata-0.3.7-py3-none-any.whl (14.9 MB)\n",
            "\u001b[2K     \u001b[90m━━━━━━━━━━━━━━━━━━━━━━━━━━━━━━━━━━━━━━━━\u001b[0m \u001b[32m14.9/14.9 MB\u001b[0m \u001b[31m66.5 MB/s\u001b[0m eta \u001b[36m0:00:00\u001b[0m\n",
            "\u001b[?25hRequirement already satisfied: numpy>=1.16 in /usr/local/lib/python3.8/dist-packages (from mirdata) (1.21.6)\n",
            "Requirement already satisfied: pandas>=1.0.0 in /usr/local/lib/python3.8/dist-packages (from mirdata) (1.3.5)\n",
            "Collecting jams\n",
            "  Downloading jams-0.3.4.tar.gz (51 kB)\n",
            "\u001b[2K     \u001b[90m━━━━━━━━━━━━━━━━━━━━━━━━━━━━━━━━━━━━━━━━\u001b[0m \u001b[32m51.3/51.3 KB\u001b[0m \u001b[31m6.0 MB/s\u001b[0m eta \u001b[36m0:00:00\u001b[0m\n",
            "\u001b[?25h  Preparing metadata (setup.py) ... \u001b[?25l\u001b[?25hdone\n",
            "Requirement already satisfied: requests in /usr/local/lib/python3.8/dist-packages (from mirdata) (2.25.1)\n",
            "Collecting pretty-midi>=0.2.8\n",
            "  Downloading pretty_midi-0.2.9.tar.gz (5.6 MB)\n",
            "\u001b[2K     \u001b[90m━━━━━━━━━━━━━━━━━━━━━━━━━━━━━━━━━━━━━━━━\u001b[0m \u001b[32m5.6/5.6 MB\u001b[0m \u001b[31m84.4 MB/s\u001b[0m eta \u001b[36m0:00:00\u001b[0m\n",
            "\u001b[?25h  Preparing metadata (setup.py) ... \u001b[?25l\u001b[?25hdone\n",
            "Requirement already satisfied: pyyaml in /usr/local/lib/python3.8/dist-packages (from mirdata) (6.0)\n",
            "Requirement already satisfied: h5py>=2.10.0 in /usr/local/lib/python3.8/dist-packages (from mirdata) (3.1.0)\n",
            "Requirement already satisfied: tqdm in /usr/local/lib/python3.8/dist-packages (from mirdata) (4.64.1)\n",
            "Requirement already satisfied: smart-open>=5.0.0 in /usr/local/lib/python3.8/dist-packages (from mirdata) (6.3.0)\n",
            "Requirement already satisfied: chardet in /usr/local/lib/python3.8/dist-packages (from mirdata) (4.0.0)\n",
            "Requirement already satisfied: scipy in /usr/local/lib/python3.8/dist-packages (from mirdata) (1.7.3)\n",
            "Collecting Deprecated>=1.2.13\n",
            "  Downloading Deprecated-1.2.13-py2.py3-none-any.whl (9.6 kB)\n",
            "Requirement already satisfied: librosa>=0.8.0 in /usr/local/lib/python3.8/dist-packages (from mirdata) (0.8.1)\n",
            "Requirement already satisfied: wrapt<2,>=1.10 in /usr/local/lib/python3.8/dist-packages (from Deprecated>=1.2.13->mirdata) (1.14.1)\n",
            "Requirement already satisfied: pooch>=1.0 in /usr/local/lib/python3.8/dist-packages (from librosa>=0.8.0->mirdata) (1.6.0)\n",
            "Requirement already satisfied: audioread>=2.0.0 in /usr/local/lib/python3.8/dist-packages (from librosa>=0.8.0->mirdata) (3.0.0)\n",
            "Requirement already satisfied: resampy>=0.2.2 in /usr/local/lib/python3.8/dist-packages (from librosa>=0.8.0->mirdata) (0.4.2)\n",
            "Requirement already satisfied: joblib>=0.14 in /usr/local/lib/python3.8/dist-packages (from librosa>=0.8.0->mirdata) (1.2.0)\n",
            "Requirement already satisfied: decorator>=3.0.0 in /usr/local/lib/python3.8/dist-packages (from librosa>=0.8.0->mirdata) (4.4.2)\n",
            "Requirement already satisfied: packaging>=20.0 in /usr/local/lib/python3.8/dist-packages (from librosa>=0.8.0->mirdata) (23.0)\n",
            "Requirement already satisfied: soundfile>=0.10.2 in /usr/local/lib/python3.8/dist-packages (from librosa>=0.8.0->mirdata) (0.11.0)\n",
            "Requirement already satisfied: scikit-learn!=0.19.0,>=0.14.0 in /usr/local/lib/python3.8/dist-packages (from librosa>=0.8.0->mirdata) (1.0.2)\n",
            "Requirement already satisfied: numba>=0.43.0 in /usr/local/lib/python3.8/dist-packages (from librosa>=0.8.0->mirdata) (0.56.4)\n",
            "Requirement already satisfied: pytz>=2017.3 in /usr/local/lib/python3.8/dist-packages (from pandas>=1.0.0->mirdata) (2022.7.1)\n",
            "Requirement already satisfied: python-dateutil>=2.7.3 in /usr/local/lib/python3.8/dist-packages (from pandas>=1.0.0->mirdata) (2.8.2)\n",
            "Collecting mido>=1.1.16\n",
            "  Downloading mido-1.2.10-py2.py3-none-any.whl (51 kB)\n",
            "\u001b[2K     \u001b[90m━━━━━━━━━━━━━━━━━━━━━━━━━━━━━━━━━━━━━━━━\u001b[0m \u001b[32m51.1/51.1 KB\u001b[0m \u001b[31m5.9 MB/s\u001b[0m eta \u001b[36m0:00:00\u001b[0m\n",
            "\u001b[?25hRequirement already satisfied: six in /usr/local/lib/python3.8/dist-packages (from pretty-midi>=0.2.8->mirdata) (1.15.0)\n",
            "Requirement already satisfied: sortedcontainers>=2.0.0 in /usr/local/lib/python3.8/dist-packages (from jams->mirdata) (2.4.0)\n",
            "Requirement already satisfied: jsonschema>=3.0.0 in /usr/local/lib/python3.8/dist-packages (from jams->mirdata) (4.3.3)\n",
            "Collecting mir_eval>=0.5\n",
            "  Downloading mir_eval-0.7.tar.gz (90 kB)\n",
            "\u001b[2K     \u001b[90m━━━━━━━━━━━━━━━━━━━━━━━━━━━━━━━━━━━━━━━━\u001b[0m \u001b[32m90.7/90.7 KB\u001b[0m \u001b[31m10.8 MB/s\u001b[0m eta \u001b[36m0:00:00\u001b[0m\n",
            "\u001b[?25h  Preparing metadata (setup.py) ... \u001b[?25l\u001b[?25hdone\n",
            "Requirement already satisfied: certifi>=2017.4.17 in /usr/local/lib/python3.8/dist-packages (from requests->mirdata) (2022.12.7)\n",
            "Requirement already satisfied: urllib3<1.27,>=1.21.1 in /usr/local/lib/python3.8/dist-packages (from requests->mirdata) (1.24.3)\n",
            "Requirement already satisfied: idna<3,>=2.5 in /usr/local/lib/python3.8/dist-packages (from requests->mirdata) (2.10)\n",
            "Requirement already satisfied: pyrsistent!=0.17.0,!=0.17.1,!=0.17.2,>=0.14.0 in /usr/local/lib/python3.8/dist-packages (from jsonschema>=3.0.0->jams->mirdata) (0.19.3)\n",
            "Requirement already satisfied: attrs>=17.4.0 in /usr/local/lib/python3.8/dist-packages (from jsonschema>=3.0.0->jams->mirdata) (22.2.0)\n",
            "Requirement already satisfied: importlib-resources>=1.4.0 in /usr/local/lib/python3.8/dist-packages (from jsonschema>=3.0.0->jams->mirdata) (5.10.2)\n",
            "Requirement already satisfied: future in /usr/local/lib/python3.8/dist-packages (from mir_eval>=0.5->jams->mirdata) (0.16.0)\n",
            "Requirement already satisfied: importlib-metadata in /usr/local/lib/python3.8/dist-packages (from numba>=0.43.0->librosa>=0.8.0->mirdata) (6.0.0)\n",
            "Requirement already satisfied: llvmlite<0.40,>=0.39.0dev0 in /usr/local/lib/python3.8/dist-packages (from numba>=0.43.0->librosa>=0.8.0->mirdata) (0.39.1)\n",
            "Requirement already satisfied: setuptools in /usr/local/lib/python3.8/dist-packages (from numba>=0.43.0->librosa>=0.8.0->mirdata) (57.4.0)\n",
            "Requirement already satisfied: appdirs>=1.3.0 in /usr/local/lib/python3.8/dist-packages (from pooch>=1.0->librosa>=0.8.0->mirdata) (1.4.4)\n",
            "Requirement already satisfied: threadpoolctl>=2.0.0 in /usr/local/lib/python3.8/dist-packages (from scikit-learn!=0.19.0,>=0.14.0->librosa>=0.8.0->mirdata) (3.1.0)\n",
            "Requirement already satisfied: cffi>=1.0 in /usr/local/lib/python3.8/dist-packages (from soundfile>=0.10.2->librosa>=0.8.0->mirdata) (1.15.1)\n",
            "Requirement already satisfied: pycparser in /usr/local/lib/python3.8/dist-packages (from cffi>=1.0->soundfile>=0.10.2->librosa>=0.8.0->mirdata) (2.21)\n",
            "Requirement already satisfied: zipp>=3.1.0 in /usr/local/lib/python3.8/dist-packages (from importlib-resources>=1.4.0->jsonschema>=3.0.0->jams->mirdata) (3.12.1)\n",
            "Building wheels for collected packages: pretty-midi, jams, mir_eval\n",
            "  Building wheel for pretty-midi (setup.py) ... \u001b[?25l\u001b[?25hdone\n",
            "  Created wheel for pretty-midi: filename=pretty_midi-0.2.9-py3-none-any.whl size=5591954 sha256=98001420bb0abc226723d0d561f519d4f3d4346708508d224f5bb8f1e2dc8d42\n",
            "  Stored in directory: /root/.cache/pip/wheels/2a/5a/e3/30eeb9a99350f3f7e21258fcb132743eef1a4f49b3505e76b6\n",
            "  Building wheel for jams (setup.py) ... \u001b[?25l\u001b[?25hdone\n",
            "  Created wheel for jams: filename=jams-0.3.4-py3-none-any.whl size=64922 sha256=31dd46aeff4af5b6b2b034536d1a877bda9691e4e41b71a4214cd41e570d9b0b\n",
            "  Stored in directory: /root/.cache/pip/wheels/e4/20/61/289b8740c6808be5cebe5ec984968a12b598f32af229bb284b\n",
            "  Building wheel for mir_eval (setup.py) ... \u001b[?25l\u001b[?25hdone\n",
            "  Created wheel for mir_eval: filename=mir_eval-0.7-py3-none-any.whl size=100720 sha256=474dc9cd74168552be4a085421e90e9641493f5435360b23b1c6b884aa27d5b7\n",
            "  Stored in directory: /root/.cache/pip/wheels/20/53/83/1d50d15a666140d53eda589db005f7cb53b739c7e54711f51f\n",
            "Successfully built pretty-midi jams mir_eval\n",
            "Installing collected packages: mido, pretty-midi, Deprecated, mir_eval, jams, mirdata\n",
            "Successfully installed Deprecated-1.2.13 jams-0.3.4 mido-1.2.10 mir_eval-0.7 mirdata-0.3.7 pretty-midi-0.2.9\n",
            "Looking in indexes: https://pypi.org/simple, https://us-python.pkg.dev/colab-wheels/public/simple/\n",
            "Requirement already satisfied: pandas in /usr/local/lib/python3.8/dist-packages (1.3.5)\n",
            "Requirement already satisfied: python-dateutil>=2.7.3 in /usr/local/lib/python3.8/dist-packages (from pandas) (2.8.2)\n",
            "Requirement already satisfied: pytz>=2017.3 in /usr/local/lib/python3.8/dist-packages (from pandas) (2022.7.1)\n",
            "Requirement already satisfied: numpy>=1.17.3 in /usr/local/lib/python3.8/dist-packages (from pandas) (1.21.6)\n",
            "Requirement already satisfied: six>=1.5 in /usr/local/lib/python3.8/dist-packages (from python-dateutil>=2.7.3->pandas) (1.15.0)\n"
          ]
        }
      ],
      "source": [
        "#If not installed, install Essentia. \n",
        "# This cell is for running the notebook in Colab\n",
        "import importlib.util\n",
        "if importlib.util.find_spec('essentia') is None:\n",
        "    !pip install essentia\n",
        "\n",
        "!pip install mirdata\n",
        "!pip install pandas"
      ]
    },
    {
      "cell_type": "code",
      "execution_count": 2,
      "metadata": {
        "id": "8RP7NclOZ3BO"
      },
      "outputs": [],
      "source": [
        "#Basic imports\n",
        "import os\n",
        "import matplotlib.pyplot as plt\n",
        "import numpy as np\n",
        "\n",
        "# Imports to support MIR\n",
        "import mirdata\n",
        "import essentia.standard as ess\n",
        "import pandas as pd\n"
      ]
    },
    {
      "cell_type": "markdown",
      "metadata": {
        "id": "rItYPqcEGLw_"
      },
      "source": [
        "## Data processing"
      ]
    },
    {
      "cell_type": "markdown",
      "metadata": {
        "id": "xrQgPGt5GSZU"
      },
      "source": [
        "We initialize Medley Solos DB a collection of audio examples of individual instruments. The dataset comprises of 10 instrument classes. \n",
        "\n",
        "In this experiment we predict 10 stroke classes.\n",
        " "
      ]
    },
    {
      "cell_type": "code",
      "execution_count": 3,
      "metadata": {
        "id": "U-d7Tw0JGMlA"
      },
      "outputs": [],
      "source": [
        "medleysolos = mirdata.initialize(\"medley_solos_db\")"
      ]
    },
    {
      "cell_type": "code",
      "execution_count": 4,
      "metadata": {
        "colab": {
          "base_uri": "https://localhost:8080/"
        },
        "id": "cYmYM1bcFGEW",
        "outputId": "b232164c-5e60-4835-9f59-1de8578df416"
      },
      "outputs": [
        {
          "output_type": "stream",
          "name": "stdout",
          "text": [
            "Mounted at /content/drive\n"
          ]
        }
      ],
      "source": [
        "from google.colab import drive\n",
        "drive.mount('/content/drive')"
      ]
    },
    {
      "cell_type": "code",
      "execution_count": 5,
      "metadata": {
        "colab": {
          "base_uri": "https://localhost:8080/"
        },
        "id": "i_y1fdZZZ3BZ",
        "outputId": "ddb261f1-ca6d-4716-dd61-631ed824e0ad"
      },
      "outputs": [
        {
          "output_type": "stream",
          "name": "stderr",
          "text": [
            "1.22MB [00:04, 319kB/s]                            \n",
            "7.38GB [1:11:10, 1.86MB/s]                            \n",
            "100%|██████████| 1/1 [00:00<00:00, 84.15it/s]\n",
            "100%|██████████| 21571/21571 [01:45<00:00, 204.68it/s]\n"
          ]
        },
        {
          "output_type": "execute_result",
          "data": {
            "text/plain": [
              "({'metadata': {}, 'tracks': {}}, {'metadata': {}, 'tracks': {}})"
            ]
          },
          "metadata": {},
          "execution_count": 5
        }
      ],
      "source": [
        "#This cell downloads and validates the medley_solos_db dataset\n",
        "medleysolos.download()  # download the dataset\n",
        "medleysolos.validate()  # validate that all the expected files are there"
      ]
    },
    {
      "cell_type": "code",
      "execution_count": 15,
      "metadata": {
        "colab": {
          "base_uri": "https://localhost:8080/"
        },
        "id": "7qc4QShb2M71",
        "outputId": "5d3eaf10-96dd-4577-f9e8-b77644e0bec8"
      },
      "outputs": [
        {
          "output_type": "execute_result",
          "data": {
            "text/plain": [
              "Track(\n",
              "  audio_path=\"...t/mir_datasets/medley_solos_db/audio/Medley-solos-DB_test-0_0e4371ac-1c6a-51ab-fdb7-f8abd5fbf1a3.wav\",\n",
              "  track_id=\"0e4371ac-1c6a-51ab-fdb7-f8abd5fbf1a3\",\n",
              "  audio: The track's audio\n",
              "\n",
              "        Returns,\n",
              "  instrument: ,\n",
              "  instrument_id: ,\n",
              "  song_id: ,\n",
              "  subset: ,\n",
              ")"
            ]
          },
          "metadata": {},
          "execution_count": 15
        }
      ],
      "source": [
        "#Here we generate a list of all tracks. Since the dataset contains metadata for each track we can consider all tracks\n",
        "medleysolos_ids = medleysolos.track_ids  # Load Medleysolos IDs\n",
        "medleysolos_data = medleysolos.load_tracks()  # Load Medleysolos data\n",
        "\n",
        "medleysolos_data[medleysolos_ids[0]]  # Visualize a single track\n",
        "#print(medleysolos_data[medleysolos_ids[5]].instrument)"
      ]
    },
    {
      "cell_type": "code",
      "execution_count": 103,
      "metadata": {
        "colab": {
          "base_uri": "https://localhost:8080/"
        },
        "id": "qqYgBYSoF6Zw",
        "outputId": "764d3ce0-3186-4033-ada0-eee2e856f1f2"
      },
      "outputs": [
        {
          "output_type": "stream",
          "name": "stdout",
          "text": [
            "Here are the unique instrument classes identified in our dataset\n",
            "['clarinet' 'distorted electric guitar' 'female singer' 'flute' 'piano'\n",
            " 'tenor saxophone' 'trumpet' 'violin']\n"
          ]
        }
      ],
      "source": [
        "# We now create a list of the unique instrument classes\n",
        "instrument_names = []\n",
        "for i in medleysolos_ids:\n",
        "    instrument_names.append(medleysolos_data[i].instrument)\n",
        "instrument_names = np.unique(instrument_names)\n",
        "\n",
        "print('Here are the unique instrument classes identified in our dataset')\n",
        "print(instrument_names)"
      ]
    },
    {
      "cell_type": "code",
      "execution_count": 58,
      "metadata": {
        "colab": {
          "base_uri": "https://localhost:8080/"
        },
        "id": "AfXV-LblZ3Bj",
        "outputId": "a6a53756-e26f-4bf9-d755-a327eb8554d5"
      },
      "outputs": [
        {
          "output_type": "stream",
          "name": "stdout",
          "text": [
            "Number of elements for clarinet : 1311\n",
            "Number of elements for distorted electric guitar : 1854\n",
            "Number of elements for female singer : 1744\n",
            "Number of elements for flute : 3555\n",
            "Number of elements for piano : 6032\n",
            "Number of elements for tenor saxophone : 477\n",
            "Number of elements for trumpet : 627\n",
            "Number of elements for violin : 5971\n"
          ]
        }
      ],
      "source": [
        "# You can create a dictionary using instruments as keys\n",
        "instrument_dict = {item: [] for item in instrument_names}\n",
        "for i in medleysolos_ids:\n",
        "    instrument_dict[medleysolos_data[i].instrument].append(medleysolos_data[i].audio_path)\n",
        "\n",
        "for i in instrument_dict:\n",
        "  print(f'Number of elements for {i} : {len(instrument_dict.get(i))}')"
      ]
    },
    {
      "cell_type": "code",
      "source": [
        "#This dataset is very unbalanced. To save time we will balance it here before processing.\n",
        "import random\n",
        "balanced_instrument_dict = {}\n",
        "files_list = []\n",
        "\n",
        "for i in instrument_dict:\n",
        "  balanced_instrument_dict[i] = random.sample(instrument_dict.get(i),100) #100 files from each class should be enough\n",
        "\n",
        "instrument_dict = balanced_instrument_dict\n",
        "\n",
        "for i in instrument_dict:\n",
        "  print(f'Number of elements for {i} : {len(instrument_dict.get(i))}')\n",
        "  [files_list.append(j) for j in instrument_dict.get(i)]\n",
        "\n",
        "print(f'\\nWe have {len(files_list)} files for {len(instrument_dict)} different classes')\n",
        "\n"
      ],
      "metadata": {
        "colab": {
          "base_uri": "https://localhost:8080/"
        },
        "id": "3hT3Ee9qJKWW",
        "outputId": "387af626-afc4-42ca-f5f7-7d6c39a5252c"
      },
      "execution_count": 102,
      "outputs": [
        {
          "output_type": "stream",
          "name": "stdout",
          "text": [
            "Number of elements for clarinet : 100\n",
            "Number of elements for distorted electric guitar : 100\n",
            "Number of elements for female singer : 100\n",
            "Number of elements for flute : 100\n",
            "Number of elements for piano : 100\n",
            "Number of elements for tenor saxophone : 100\n",
            "Number of elements for trumpet : 100\n",
            "Number of elements for violin : 100\n",
            "\n",
            "We have 800 files for 8 different classes\n"
          ]
        }
      ]
    },
    {
      "cell_type": "code",
      "source": [
        "#Since the instrument classes are not included in the filename for this dataset, Ive created this function to\n",
        "#extract a list of instrument classes for each key value pair in our balanced dictionary. \n",
        "def add_keys_to_list(instrument_dict):\n",
        "    new_instrument_list = []\n",
        "    for key in instrument_dict.keys():\n",
        "        for i in range(100):\n",
        "            new_instrument_list.append(key)\n",
        "    return new_instrument_list\n"
      ],
      "metadata": {
        "id": "ipjQ2zk818Wq"
      },
      "execution_count": 64,
      "outputs": []
    },
    {
      "cell_type": "code",
      "source": [
        "instrument_list = add_keys_to_list(instrument_dict)"
      ],
      "metadata": {
        "id": "4Hck5d3M8eYT"
      },
      "execution_count": 105,
      "outputs": []
    },
    {
      "cell_type": "markdown",
      "source": [
        "Before moving on to feature extraction lets take a look at some visualizations of the data. \n",
        "\n",
        "As shown below, given that each audiofile contains information throughout the whole recording we do not need to worry about preprocessing. "
      ],
      "metadata": {
        "id": "eK8xosihc8jj"
      }
    },
    {
      "cell_type": "code",
      "execution_count": 66,
      "metadata": {
        "colab": {
          "base_uri": "https://localhost:8080/",
          "height": 128
        },
        "id": "Vr2f3y2dZ3By",
        "outputId": "1d5f0697-e4c2-4f05-f991-3a6b994b6ec2"
      },
      "outputs": [
        {
          "output_type": "stream",
          "name": "stdout",
          "text": [
            "Plot waveforms of random samples of each instrument type...\n"
          ]
        },
        {
          "output_type": "display_data",
          "data": {
            "text/plain": [
              "<Figure size 2880x216 with 8 Axes>"
            ],
            "image/png": "[encoded data removed]"
          },
          "metadata": {
            "needs_background": "light"
          }
        }
      ],
      "source": [
        "# Raw-data preprocess analysis parameters\n",
        "_, fs = medleysolos_data[medleysolos_ids[0]].audio\n",
        "\n",
        "num_instruments = len(instrument_dict.keys())\n",
        "print(\"Plot waveforms of random samples of each instrument type...\")\n",
        "plt.figure(1, figsize=(5 * num_instruments, 3))\n",
        "file_ind_inlist = 0 # 0: let's take the first file in the list for sample plots\n",
        "for i, instrument in enumerate(instrument_dict.keys()):\n",
        "    sample_file = instrument_dict[instrument][file_ind_inlist]\n",
        "    x = ess.MonoLoader(filename = sample_file, sampleRate = fs)()\n",
        "    \n",
        "    plt.subplot(1,num_instruments,(i+1))\n",
        "    plt.plot(x)\n",
        "    plt.title(instrument)"
      ]
    },
    {
      "cell_type": "markdown",
      "metadata": {
        "id": "pmTShfNLZ3Cg"
      },
      "source": [
        "## Feature extraction \n",
        "\n",
        "Let's compute a list of common features for each of the files and form a data frame including features and categories. We will be using the [MusicExtractor function of Essentia](https://essentia.upf.edu/documentation/reference/std_MusicExtractor.html) that would compute a large number of features commonly used in MIR literature. \n",
        "\n",
        "Essentia-MusicExtractor extracts a large number of features. For simplicity, let's only keep low-level descriptors which are represented with a single scalar value as our feature set and discard other features."
      ]
    },
    {
      "cell_type": "code",
      "execution_count": 67,
      "metadata": {
        "colab": {
          "base_uri": "https://localhost:8080/"
        },
        "id": "TvOzjojcZ3Co",
        "outputId": "15bbb982-166b-4589-8548-4a91ef1be26b"
      },
      "outputs": [
        {
          "output_type": "stream",
          "name": "stdout",
          "text": [
            "Subset of features to be considered:\n",
            " ['lowlevel.average_loudness', 'lowlevel.barkbands_crest.mean', 'lowlevel.barkbands_crest.stdev', 'lowlevel.barkbands_flatness_db.mean', 'lowlevel.barkbands_flatness_db.stdev', 'lowlevel.barkbands_kurtosis.mean', 'lowlevel.barkbands_kurtosis.stdev', 'lowlevel.barkbands_skewness.mean', 'lowlevel.barkbands_skewness.stdev', 'lowlevel.barkbands_spread.mean', 'lowlevel.barkbands_spread.stdev', 'lowlevel.dissonance.mean', 'lowlevel.dissonance.stdev', 'lowlevel.dynamic_complexity', 'lowlevel.erbbands_crest.mean', 'lowlevel.erbbands_crest.stdev', 'lowlevel.erbbands_flatness_db.mean', 'lowlevel.erbbands_flatness_db.stdev', 'lowlevel.erbbands_kurtosis.mean', 'lowlevel.erbbands_kurtosis.stdev', 'lowlevel.erbbands_skewness.mean', 'lowlevel.erbbands_skewness.stdev', 'lowlevel.erbbands_spread.mean', 'lowlevel.erbbands_spread.stdev', 'lowlevel.hfc.mean', 'lowlevel.hfc.stdev', 'lowlevel.loudness_ebu128.integrated', 'lowlevel.loudness_ebu128.loudness_range', 'lowlevel.loudness_ebu128.momentary.mean', 'lowlevel.loudness_ebu128.momentary.stdev', 'lowlevel.loudness_ebu128.short_term.mean', 'lowlevel.loudness_ebu128.short_term.stdev', 'lowlevel.melbands_crest.mean', 'lowlevel.melbands_crest.stdev', 'lowlevel.melbands_flatness_db.mean', 'lowlevel.melbands_flatness_db.stdev', 'lowlevel.melbands_kurtosis.mean', 'lowlevel.melbands_kurtosis.stdev', 'lowlevel.melbands_skewness.mean', 'lowlevel.melbands_skewness.stdev', 'lowlevel.melbands_spread.mean', 'lowlevel.melbands_spread.stdev', 'lowlevel.pitch_salience.mean', 'lowlevel.pitch_salience.stdev', 'lowlevel.silence_rate_20dB.mean', 'lowlevel.silence_rate_20dB.stdev', 'lowlevel.silence_rate_30dB.mean', 'lowlevel.silence_rate_30dB.stdev', 'lowlevel.silence_rate_60dB.mean', 'lowlevel.silence_rate_60dB.stdev', 'lowlevel.spectral_centroid.mean', 'lowlevel.spectral_centroid.stdev', 'lowlevel.spectral_complexity.mean', 'lowlevel.spectral_complexity.stdev', 'lowlevel.spectral_decrease.mean', 'lowlevel.spectral_decrease.stdev', 'lowlevel.spectral_energy.mean', 'lowlevel.spectral_energy.stdev', 'lowlevel.spectral_energyband_high.mean', 'lowlevel.spectral_energyband_high.stdev', 'lowlevel.spectral_energyband_low.mean', 'lowlevel.spectral_energyband_low.stdev', 'lowlevel.spectral_energyband_middle_high.mean', 'lowlevel.spectral_energyband_middle_high.stdev', 'lowlevel.spectral_energyband_middle_low.mean', 'lowlevel.spectral_energyband_middle_low.stdev', 'lowlevel.spectral_entropy.mean', 'lowlevel.spectral_entropy.stdev', 'lowlevel.spectral_flux.mean', 'lowlevel.spectral_flux.stdev', 'lowlevel.spectral_kurtosis.mean', 'lowlevel.spectral_kurtosis.stdev', 'lowlevel.spectral_rms.mean', 'lowlevel.spectral_rms.stdev', 'lowlevel.spectral_rolloff.mean', 'lowlevel.spectral_rolloff.stdev', 'lowlevel.spectral_skewness.mean', 'lowlevel.spectral_skewness.stdev', 'lowlevel.spectral_spread.mean', 'lowlevel.spectral_spread.stdev', 'lowlevel.spectral_strongpeak.mean', 'lowlevel.spectral_strongpeak.stdev', 'lowlevel.zerocrossingrate.mean', 'lowlevel.zerocrossingrate.stdev']\n"
          ]
        }
      ],
      "source": [
        "# Print descriptors to be considered\n",
        "features, features_frames = ess.MusicExtractor(lowlevelSilentFrames='keep',\n",
        "                                                      lowlevelFrameSize = 2048,\n",
        "                                                      lowlevelHopSize = 1024,\n",
        "                                                      lowlevelStats = ['mean', 'stdev'])(medleysolos_data[medleysolos_ids[0]].audio_path)\n",
        "\n",
        "\n",
        "scalar_lowlevel_descriptors = [descriptor for descriptor in features.descriptorNames() if 'lowlevel' in descriptor and isinstance(features[descriptor], float)]\n",
        "print(\"Subset of features to be considered:\\n\",scalar_lowlevel_descriptors)"
      ]
    },
    {
      "cell_type": "markdown",
      "metadata": {
        "id": "o5aBdpBtZ3Cv"
      },
      "source": [
        "Running musicextractor for all files, keeping a subset of features, writing to an output file: medleysolos_analysis.csv"
      ]
    },
    {
      "cell_type": "code",
      "execution_count": 78,
      "metadata": {
        "colab": {
          "base_uri": "https://localhost:8080/"
        },
        "id": "POoJ0K8BZ3Cz",
        "outputId": "f31ffe12-bc89-4253-d674-fc627b95e65b"
      },
      "outputs": [
        {
          "output_type": "stream",
          "name": "stdout",
          "text": [
            "20 files processed, current file:  /root/mir_datasets/medley_solos_db/audio/Medley-solos-DB_training-0_9f6d4046-3662-5433-fc44-98c80a428fd8.wav\n",
            "40 files processed, current file:  /root/mir_datasets/medley_solos_db/audio/Medley-solos-DB_test-0_7adb93d5-faee-521b-fe99-117bba7e6aa8.wav\n",
            "60 files processed, current file:  /root/mir_datasets/medley_solos_db/audio/Medley-solos-DB_test-0_030121e8-7004-538d-f944-500bad01d40a.wav\n",
            "80 files processed, current file:  /root/mir_datasets/medley_solos_db/audio/Medley-solos-DB_training-0_b93c28fd-cdb9-50d9-f3ac-f8ef4cce342b.wav\n",
            "100 files processed, current file:  /root/mir_datasets/medley_solos_db/audio/Medley-solos-DB_training-0_af3b693e-874a-5e07-fae8-a4f8ab0425e3.wav\n",
            "120 files processed, current file:  /root/mir_datasets/medley_solos_db/audio/Medley-solos-DB_validation-1_b9317fba-bccb-5fae-f132-791e8017986d.wav\n",
            "140 files processed, current file:  /root/mir_datasets/medley_solos_db/audio/Medley-solos-DB_test-1_38af762b-6a71-5c60-f959-3d8777db7721.wav\n",
            "160 files processed, current file:  /root/mir_datasets/medley_solos_db/audio/Medley-solos-DB_test-1_f1a081b9-f97d-5836-fa63-0afc5990b0ed.wav\n",
            "180 files processed, current file:  /root/mir_datasets/medley_solos_db/audio/Medley-solos-DB_test-1_7d577cf9-ecfd-5c3f-f368-8bfb39b26125.wav\n",
            "200 files processed, current file:  /root/mir_datasets/medley_solos_db/audio/Medley-solos-DB_validation-1_71bb4bc1-c2f4-51e8-f545-360fee4b18e8.wav\n",
            "220 files processed, current file:  /root/mir_datasets/medley_solos_db/audio/Medley-solos-DB_training-2_4614c16b-5821-5757-f9f6-2b4b8cbc5242.wav\n",
            "240 files processed, current file:  /root/mir_datasets/medley_solos_db/audio/Medley-solos-DB_test-2_3d36b1fa-0b68-5426-f6d4-00eedd9d93b7.wav\n",
            "260 files processed, current file:  /root/mir_datasets/medley_solos_db/audio/Medley-solos-DB_test-2_851cfb61-4522-5459-fa74-51bdc7e51fa6.wav\n",
            "280 files processed, current file:  /root/mir_datasets/medley_solos_db/audio/Medley-solos-DB_test-2_4edbf57f-5c56-5c9d-fe5e-9e93be71cd2a.wav\n",
            "300 files processed, current file:  /root/mir_datasets/medley_solos_db/audio/Medley-solos-DB_test-2_654f81a4-8ea9-5fe9-f66f-36776fbfedee.wav\n",
            "320 files processed, current file:  /root/mir_datasets/medley_solos_db/audio/Medley-solos-DB_test-3_4006e198-f10a-5f14-f013-a3c998df94d6.wav\n",
            "340 files processed, current file:  /root/mir_datasets/medley_solos_db/audio/Medley-solos-DB_test-3_634f5323-7a0d-54b0-f46f-e5340446e5d9.wav\n",
            "360 files processed, current file:  /root/mir_datasets/medley_solos_db/audio/Medley-solos-DB_test-3_0e900022-e43f-52ce-fb05-21e4cdd7f52a.wav\n",
            "380 files processed, current file:  /root/mir_datasets/medley_solos_db/audio/Medley-solos-DB_test-3_5c385cfe-e253-5ecb-f0e6-e71b4193cccc.wav\n",
            "400 files processed, current file:  /root/mir_datasets/medley_solos_db/audio/Medley-solos-DB_test-3_e1d7325c-e6c0-58ee-fe33-8f3bb4e89c81.wav\n",
            "420 files processed, current file:  /root/mir_datasets/medley_solos_db/audio/Medley-solos-DB_training-4_8046f3e0-c317-5e17-f83d-5ab6b2b8bcef.wav\n",
            "440 files processed, current file:  /root/mir_datasets/medley_solos_db/audio/Medley-solos-DB_test-4_3757a574-d9e3-5201-f2d9-5c0d06b190d1.wav\n",
            "460 files processed, current file:  /root/mir_datasets/medley_solos_db/audio/Medley-solos-DB_training-4_70224df8-4c44-56f3-f1e8-65858c7bdaaa.wav\n",
            "480 files processed, current file:  /root/mir_datasets/medley_solos_db/audio/Medley-solos-DB_test-4_f3df6098-b7c7-5e00-f636-28f8403f2f35.wav\n",
            "500 files processed, current file:  /root/mir_datasets/medley_solos_db/audio/Medley-solos-DB_test-4_b2d55365-f082-5898-fa2f-4af01b40c509.wav\n",
            "520 files processed, current file:  /root/mir_datasets/medley_solos_db/audio/Medley-solos-DB_test-5_63d1d0b7-5bbc-50dc-f73a-b79e00cc458b.wav\n",
            "540 files processed, current file:  /root/mir_datasets/medley_solos_db/audio/Medley-solos-DB_test-5_0b611c1b-1fb4-52be-f6b4-fcc56357a30c.wav\n",
            "560 files processed, current file:  /root/mir_datasets/medley_solos_db/audio/Medley-solos-DB_training-5_98e2fbff-79e7-51e4-f6f4-35c5c4c4a097.wav\n",
            "580 files processed, current file:  /root/mir_datasets/medley_solos_db/audio/Medley-solos-DB_training-5_c446c107-95b5-530d-fc9b-b5e4d3634006.wav\n",
            "600 files processed, current file:  /root/mir_datasets/medley_solos_db/audio/Medley-solos-DB_test-5_6716f1f2-8905-5fd7-fc0a-c7a242cfbb51.wav\n",
            "620 files processed, current file:  /root/mir_datasets/medley_solos_db/audio/Medley-solos-DB_training-6_7708a8c9-cb91-59e5-f75d-945e2790fd09.wav\n",
            "640 files processed, current file:  /root/mir_datasets/medley_solos_db/audio/Medley-solos-DB_test-6_549e96dd-e006-58dc-ff45-0bae57fbc063.wav\n",
            "660 files processed, current file:  /root/mir_datasets/medley_solos_db/audio/Medley-solos-DB_test-6_d88e8b26-25b6-5b20-f6ab-a390f8a46891.wav\n",
            "680 files processed, current file:  /root/mir_datasets/medley_solos_db/audio/Medley-solos-DB_test-6_f67d8246-3ef4-57f3-f40e-c93ae998644b.wav\n",
            "700 files processed, current file:  /root/mir_datasets/medley_solos_db/audio/Medley-solos-DB_test-6_7b793a3d-0035-5dfc-f410-3be93841914f.wav\n",
            "720 files processed, current file:  /root/mir_datasets/medley_solos_db/audio/Medley-solos-DB_training-7_63d2a7a4-ec2a-5b11-fc3f-973009ffe200.wav\n",
            "740 files processed, current file:  /root/mir_datasets/medley_solos_db/audio/Medley-solos-DB_test-7_35446dd1-f814-5ed1-ff5c-0eae35c99b03.wav\n",
            "760 files processed, current file:  /root/mir_datasets/medley_solos_db/audio/Medley-solos-DB_training-7_b1af4f6e-26b5-5899-f74c-3c3cc1364333.wav\n",
            "780 files processed, current file:  /root/mir_datasets/medley_solos_db/audio/Medley-solos-DB_training-7_650f1ac8-2f51-59ef-f04b-8bfd693cd5fe.wav\n",
            "800 files processed, current file:  /root/mir_datasets/medley_solos_db/audio/Medley-solos-DB_training-7_6d823328-6fa9-5650-f9a1-2c71b0f88dba.wav\n",
            "A total of  800 files processed\n"
          ]
        }
      ],
      "source": [
        "# Extracting features and writing in data.csv file in the segments folder\n",
        "#  each line in the data.csv file represents a sample with features and the class information as the last element\n",
        "data_file = '/content/drive/MyDrive/medleysolos_analysis.csv'\n",
        "file_count = 0\n",
        "with open(data_file, 'w') as writer:\n",
        "    #adding column names as the first line in csv\n",
        "    line2write = ','.join(scalar_lowlevel_descriptors + ['instrument']).replace('lowlevel.','') + '\\n'\n",
        "    writer.write(line2write)\n",
        "    for filename in files_list:\n",
        "        file_count +=1\n",
        "        if file_count % 20 == 0: #print name of a file every 20 files\n",
        "            print(file_count, \"files processed, current file: \", filename)\n",
        "\n",
        "        #Compute and write features for file\n",
        "        features, features_frames = ess.MusicExtractor(lowlevelSilentFrames='keep',\n",
        "                                                      lowlevelFrameSize = 2048,\n",
        "                                                      lowlevelHopSize = 1024,\n",
        "                                                      lowlevelStats = ['mean', 'stdev'])(filename)\n",
        "        selected_features = [features[descriptor] for descriptor in scalar_lowlevel_descriptors]\n",
        "        label = instrument_list[int(file_count)-1]\n",
        "        line2write = str(selected_features)[1:-1] + ',' + label + '\\n'\n",
        "        writer.write(line2write)\n",
        "print(\"A total of \", file_count, \"files processed\")"
      ]
    },
    {
      "cell_type": "code",
      "execution_count": 79,
      "metadata": {
        "colab": {
          "base_uri": "https://localhost:8080/",
          "height": 300
        },
        "id": "CaJDBafwZ3C-",
        "outputId": "5162be09-7cf5-4a7d-e73b-ed41dea9b4dd"
      },
      "outputs": [
        {
          "output_type": "execute_result",
          "data": {
            "text/plain": [
              "   average_loudness  barkbands_crest.mean  barkbands_crest.stdev  \\\n",
              "0          0.986485             16.137585               2.854650   \n",
              "1          0.960058             16.703074               4.317982   \n",
              "2          0.989022             17.286232               4.865179   \n",
              "3          0.832181             18.056297               5.766200   \n",
              "4          0.989167             16.251318               4.867145   \n",
              "\n",
              "   barkbands_flatness_db.mean  barkbands_flatness_db.stdev  \\\n",
              "0                    0.440354                     0.046050   \n",
              "1                    0.390302                     0.069234   \n",
              "2                    0.379137                     0.050587   \n",
              "3                    0.428147                     0.093486   \n",
              "4                    0.378412                     0.059585   \n",
              "\n",
              "   barkbands_kurtosis.mean  barkbands_kurtosis.stdev  barkbands_skewness.mean  \\\n",
              "0                 3.533163                  5.387850                 1.585198   \n",
              "1                 4.026202                  7.205310                 1.280914   \n",
              "2                 2.666015                  3.880915                 0.477517   \n",
              "3                23.127003                 44.049374                 3.228702   \n",
              "4                 2.343408                  4.403314                 0.602891   \n",
              "\n",
              "   barkbands_skewness.stdev  barkbands_spread.mean  ...  \\\n",
              "0                  1.314781               4.652485  ...   \n",
              "1                  1.297541               6.017007  ...   \n",
              "2                  1.172807               9.107632  ...   \n",
              "3                  3.114851               4.811037  ...   \n",
              "4                  0.911431              10.142206  ...   \n",
              "\n",
              "   spectral_rolloff.stdev  spectral_skewness.mean  spectral_skewness.stdev  \\\n",
              "0              428.102356                6.583709                 1.664342   \n",
              "1              519.908691                4.909033                 1.626673   \n",
              "2              531.278015                2.555879                 0.741637   \n",
              "3              446.049927                5.266436                 1.917410   \n",
              "4              652.699829                2.489532                 0.937021   \n",
              "\n",
              "   spectral_spread.mean  spectral_spread.stdev  spectral_strongpeak.mean  \\\n",
              "0           1167503.125           4.679665e+05                  3.604831   \n",
              "1           1875093.625           1.036963e+06                  1.397450   \n",
              "2           1990577.375           6.084969e+05                  2.655199   \n",
              "3           1580872.000           1.654716e+06                  1.075566   \n",
              "4           2057679.250           1.223489e+06                  2.319118   \n",
              "\n",
              "   spectral_strongpeak.stdev  zerocrossingrate.mean  zerocrossingrate.stdev  \\\n",
              "0                   1.952415               0.029482                0.008874   \n",
              "1                   1.750989               0.029316                0.014456   \n",
              "2                   2.983301               0.057791                0.019724   \n",
              "3                   0.944310               0.027684                0.011439   \n",
              "4                   1.841064               0.057284                0.015763   \n",
              "\n",
              "   instrument  \n",
              "0    clarinet  \n",
              "1    clarinet  \n",
              "2    clarinet  \n",
              "3    clarinet  \n",
              "4    clarinet  \n",
              "\n",
              "[5 rows x 85 columns]"
            ],
            "text/html": [
              "\n",
              "  <div id=\"df-9074eebe-5d1b-4af0-b484-7064921aa058\">\n",
              "    <div class=\"colab-df-container\">\n",
              "      <div>\n",
              "<style scoped>\n",
              "    .dataframe tbody tr th:only-of-type {\n",
              "        vertical-align: middle;\n",
              "    }\n",
              "\n",
              "    .dataframe tbody tr th {\n",
              "        vertical-align: top;\n",
              "    }\n",
              "\n",
              "    .dataframe thead th {\n",
              "        text-align: right;\n",
              "    }\n",
              "</style>\n",
              "<table border=\"1\" class=\"dataframe\">\n",
              "  <thead>\n",
              "    <tr style=\"text-align: right;\">\n",
              "      <th></th>\n",
              "      <th>average_loudness</th>\n",
              "      <th>barkbands_crest.mean</th>\n",
              "      <th>barkbands_crest.stdev</th>\n",
              "      <th>barkbands_flatness_db.mean</th>\n",
              "      <th>barkbands_flatness_db.stdev</th>\n",
              "      <th>barkbands_kurtosis.mean</th>\n",
              "      <th>barkbands_kurtosis.stdev</th>\n",
              "      <th>barkbands_skewness.mean</th>\n",
              "      <th>barkbands_skewness.stdev</th>\n",
              "      <th>barkbands_spread.mean</th>\n",
              "      <th>...</th>\n",
              "      <th>spectral_rolloff.stdev</th>\n",
              "      <th>spectral_skewness.mean</th>\n",
              "      <th>spectral_skewness.stdev</th>\n",
              "      <th>spectral_spread.mean</th>\n",
              "      <th>spectral_spread.stdev</th>\n",
              "      <th>spectral_strongpeak.mean</th>\n",
              "      <th>spectral_strongpeak.stdev</th>\n",
              "      <th>zerocrossingrate.mean</th>\n",
              "      <th>zerocrossingrate.stdev</th>\n",
              "      <th>instrument</th>\n",
              "    </tr>\n",
              "  </thead>\n",
              "  <tbody>\n",
              "    <tr>\n",
              "      <th>0</th>\n",
              "      <td>0.986485</td>\n",
              "      <td>16.137585</td>\n",
              "      <td>2.854650</td>\n",
              "      <td>0.440354</td>\n",
              "      <td>0.046050</td>\n",
              "      <td>3.533163</td>\n",
              "      <td>5.387850</td>\n",
              "      <td>1.585198</td>\n",
              "      <td>1.314781</td>\n",
              "      <td>4.652485</td>\n",
              "      <td>...</td>\n",
              "      <td>428.102356</td>\n",
              "      <td>6.583709</td>\n",
              "      <td>1.664342</td>\n",
              "      <td>1167503.125</td>\n",
              "      <td>4.679665e+05</td>\n",
              "      <td>3.604831</td>\n",
              "      <td>1.952415</td>\n",
              "      <td>0.029482</td>\n",
              "      <td>0.008874</td>\n",
              "      <td>clarinet</td>\n",
              "    </tr>\n",
              "    <tr>\n",
              "      <th>1</th>\n",
              "      <td>0.960058</td>\n",
              "      <td>16.703074</td>\n",
              "      <td>4.317982</td>\n",
              "      <td>0.390302</td>\n",
              "      <td>0.069234</td>\n",
              "      <td>4.026202</td>\n",
              "      <td>7.205310</td>\n",
              "      <td>1.280914</td>\n",
              "      <td>1.297541</td>\n",
              "      <td>6.017007</td>\n",
              "      <td>...</td>\n",
              "      <td>519.908691</td>\n",
              "      <td>4.909033</td>\n",
              "      <td>1.626673</td>\n",
              "      <td>1875093.625</td>\n",
              "      <td>1.036963e+06</td>\n",
              "      <td>1.397450</td>\n",
              "      <td>1.750989</td>\n",
              "      <td>0.029316</td>\n",
              "      <td>0.014456</td>\n",
              "      <td>clarinet</td>\n",
              "    </tr>\n",
              "    <tr>\n",
              "      <th>2</th>\n",
              "      <td>0.989022</td>\n",
              "      <td>17.286232</td>\n",
              "      <td>4.865179</td>\n",
              "      <td>0.379137</td>\n",
              "      <td>0.050587</td>\n",
              "      <td>2.666015</td>\n",
              "      <td>3.880915</td>\n",
              "      <td>0.477517</td>\n",
              "      <td>1.172807</td>\n",
              "      <td>9.107632</td>\n",
              "      <td>...</td>\n",
              "      <td>531.278015</td>\n",
              "      <td>2.555879</td>\n",
              "      <td>0.741637</td>\n",
              "      <td>1990577.375</td>\n",
              "      <td>6.084969e+05</td>\n",
              "      <td>2.655199</td>\n",
              "      <td>2.983301</td>\n",
              "      <td>0.057791</td>\n",
              "      <td>0.019724</td>\n",
              "      <td>clarinet</td>\n",
              "    </tr>\n",
              "    <tr>\n",
              "      <th>3</th>\n",
              "      <td>0.832181</td>\n",
              "      <td>18.056297</td>\n",
              "      <td>5.766200</td>\n",
              "      <td>0.428147</td>\n",
              "      <td>0.093486</td>\n",
              "      <td>23.127003</td>\n",
              "      <td>44.049374</td>\n",
              "      <td>3.228702</td>\n",
              "      <td>3.114851</td>\n",
              "      <td>4.811037</td>\n",
              "      <td>...</td>\n",
              "      <td>446.049927</td>\n",
              "      <td>5.266436</td>\n",
              "      <td>1.917410</td>\n",
              "      <td>1580872.000</td>\n",
              "      <td>1.654716e+06</td>\n",
              "      <td>1.075566</td>\n",
              "      <td>0.944310</td>\n",
              "      <td>0.027684</td>\n",
              "      <td>0.011439</td>\n",
              "      <td>clarinet</td>\n",
              "    </tr>\n",
              "    <tr>\n",
              "      <th>4</th>\n",
              "      <td>0.989167</td>\n",
              "      <td>16.251318</td>\n",
              "      <td>4.867145</td>\n",
              "      <td>0.378412</td>\n",
              "      <td>0.059585</td>\n",
              "      <td>2.343408</td>\n",
              "      <td>4.403314</td>\n",
              "      <td>0.602891</td>\n",
              "      <td>0.911431</td>\n",
              "      <td>10.142206</td>\n",
              "      <td>...</td>\n",
              "      <td>652.699829</td>\n",
              "      <td>2.489532</td>\n",
              "      <td>0.937021</td>\n",
              "      <td>2057679.250</td>\n",
              "      <td>1.223489e+06</td>\n",
              "      <td>2.319118</td>\n",
              "      <td>1.841064</td>\n",
              "      <td>0.057284</td>\n",
              "      <td>0.015763</td>\n",
              "      <td>clarinet</td>\n",
              "    </tr>\n",
              "  </tbody>\n",
              "</table>\n",
              "<p>5 rows × 85 columns</p>\n",
              "</div>\n",
              "      <button class=\"colab-df-convert\" onclick=\"convertToInteractive('df-9074eebe-5d1b-4af0-b484-7064921aa058')\"\n",
              "              title=\"Convert this dataframe to an interactive table.\"\n",
              "              style=\"display:none;\">\n",
              "        \n",
              "  <svg xmlns=\"http://www.w3.org/2000/svg\" height=\"24px\"viewBox=\"0 0 24 24\"\n",
              "       width=\"24px\">\n",
              "    <path d=\"M0 0h24v24H0V0z\" fill=\"none\"/>\n",
              "    <path d=\"M18.56 5.44l.94 2.06.94-2.06 2.06-.94-2.06-.94-.94-2.06-.94 2.06-2.06.94zm-11 1L8.5 8.5l.94-2.06 2.06-.94-2.06-.94L8.5 2.5l-.94 2.06-2.06.94zm10 10l.94 2.06.94-2.06 2.06-.94-2.06-.94-.94-2.06-.94 2.06-2.06.94z\"/><path d=\"M17.41 7.96l-1.37-1.37c-.4-.4-.92-.59-1.43-.59-.52 0-1.04.2-1.43.59L10.3 9.45l-7.72 7.72c-.78.78-.78 2.05 0 2.83L4 21.41c.39.39.9.59 1.41.59.51 0 1.02-.2 1.41-.59l7.78-7.78 2.81-2.81c.8-.78.8-2.07 0-2.86zM5.41 20L4 18.59l7.72-7.72 1.47 1.35L5.41 20z\"/>\n",
              "  </svg>\n",
              "      </button>\n",
              "      \n",
              "  <style>\n",
              "    .colab-df-container {\n",
              "      display:flex;\n",
              "      flex-wrap:wrap;\n",
              "      gap: 12px;\n",
              "    }\n",
              "\n",
              "    .colab-df-convert {\n",
              "      background-color: #E8F0FE;\n",
              "      border: none;\n",
              "      border-radius: 50%;\n",
              "      cursor: pointer;\n",
              "      display: none;\n",
              "      fill: #1967D2;\n",
              "      height: 32px;\n",
              "      padding: 0 0 0 0;\n",
              "      width: 32px;\n",
              "    }\n",
              "\n",
              "    .colab-df-convert:hover {\n",
              "      background-color: #E2EBFA;\n",
              "      box-shadow: 0px 1px 2px rgba(60, 64, 67, 0.3), 0px 1px 3px 1px rgba(60, 64, 67, 0.15);\n",
              "      fill: #174EA6;\n",
              "    }\n",
              "\n",
              "    [theme=dark] .colab-df-convert {\n",
              "      background-color: #3B4455;\n",
              "      fill: #D2E3FC;\n",
              "    }\n",
              "\n",
              "    [theme=dark] .colab-df-convert:hover {\n",
              "      background-color: #434B5C;\n",
              "      box-shadow: 0px 1px 3px 1px rgba(0, 0, 0, 0.15);\n",
              "      filter: drop-shadow(0px 1px 2px rgba(0, 0, 0, 0.3));\n",
              "      fill: #FFFFFF;\n",
              "    }\n",
              "  </style>\n",
              "\n",
              "      <script>\n",
              "        const buttonEl =\n",
              "          document.querySelector('#df-9074eebe-5d1b-4af0-b484-7064921aa058 button.colab-df-convert');\n",
              "        buttonEl.style.display =\n",
              "          google.colab.kernel.accessAllowed ? 'block' : 'none';\n",
              "\n",
              "        async function convertToInteractive(key) {\n",
              "          const element = document.querySelector('#df-9074eebe-5d1b-4af0-b484-7064921aa058');\n",
              "          const dataTable =\n",
              "            await google.colab.kernel.invokeFunction('convertToInteractive',\n",
              "                                                     [key], {});\n",
              "          if (!dataTable) return;\n",
              "\n",
              "          const docLinkHtml = 'Like what you see? Visit the ' +\n",
              "            '<a target=\"_blank\" href=https://colab.research.google.com/notebooks/data_table.ipynb>data table notebook</a>'\n",
              "            + ' to learn more about interactive tables.';\n",
              "          element.innerHTML = '';\n",
              "          dataTable['output_type'] = 'display_data';\n",
              "          await google.colab.output.renderOutput(dataTable, element);\n",
              "          const docLink = document.createElement('div');\n",
              "          docLink.innerHTML = docLinkHtml;\n",
              "          element.appendChild(docLink);\n",
              "        }\n",
              "      </script>\n",
              "    </div>\n",
              "  </div>\n",
              "  "
            ]
          },
          "metadata": {},
          "execution_count": 79
        }
      ],
      "source": [
        "#Read data with pandas module\n",
        "data = pd.read_csv(data_file)\n",
        "\n",
        "#Plot first lines of our data\n",
        "data.head()"
      ]
    },
    {
      "cell_type": "code",
      "execution_count": 84,
      "metadata": {
        "colab": {
          "base_uri": "https://localhost:8080/",
          "height": 370
        },
        "id": "_zrFi7BLMhai",
        "outputId": "5b5d184c-e27e-49c0-e5da-e60db3dd6a20"
      },
      "outputs": [
        {
          "output_type": "display_data",
          "data": {
            "text/plain": [
              "<Figure size 513.875x360 with 1 Axes>"
            ],
            "image/png": "[encoded data removed]"
          },
          "metadata": {
            "needs_background": "light"
          }
        }
      ],
      "source": [
        "# Take two random features and plot the sample points\n",
        "import seaborn as sns\n",
        "sns.relplot(x = \"spectral_complexity.mean\", y = \"melbands_crest.mean\", hue = \"instrument\", data = data);"
      ]
    }
  ],
  "metadata": {
    "colab": {
      "provenance": [],
      "include_colab_link": true
    },
    "kernelspec": {
      "display_name": "Python 3",
      "language": "python",
      "name": "python3"
    },
    "language_info": {
      "codemirror_mode": {
        "name": "ipython",
        "version": 3
      },
      "file_extension": ".py",
      "mimetype": "text/x-python",
      "name": "python",
      "nbconvert_exporter": "python",
      "pygments_lexer": "ipython3",
      "version": "3.6.7"
    }
  },
  "nbformat": 4,
  "nbformat_minor": 0
}